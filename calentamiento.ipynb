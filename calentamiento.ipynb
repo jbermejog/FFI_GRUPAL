{
 "cells": [
  {
   "cell_type": "markdown",
   "metadata": {},
   "source": [
    "## Calentamiento"
   ]
  },
  {
   "cell_type": "markdown",
   "metadata": {},
   "source": [
    "$$\\frac{x - x_1}{x_2 - x_1} = \\frac{y - y_1}{y_2 - y_1 } \\equiv y= m \\cdot x + b $$"
   ]
  },
  {
   "cell_type": "markdown",
   "metadata": {},
   "source": [
    "Un <strong>ajuste a una recta</strong> (o regresión lineal) lo que persigue es hallar la ecuación de la recta que mejor pasa por una serie de puntos. Recordamos que una recta se puede definir, como mínimo, con <strong>dos puntos</strong> $x_1,y_1$ y $x_2,y_2$, de manera que cualquier otro punto de dicha recta $x,y$ ,  cumple que: "
   ]
  },
  {
   "cell_type": "markdown",
   "metadata": {},
   "source": [
    "$$\\frac{x - x_1}{x_2 - x_1} = \\frac{y - y_1}{y_2 - y_1 }$$"
   ]
  },
  {
   "cell_type": "markdown",
   "metadata": {},
   "source": [
    "Esta igualdad también se puede expresar como:"
   ]
  },
  {
   "cell_type": "markdown",
   "metadata": {},
   "source": [
    "$ y= m \\cdot x + b $ donde $ m=\\frac{y_1-y_2}{x_1-x_2}\\  \\hspace{.2cm}y\\hspace{.2cm}   b=\\frac{x_1y_2-x_2y_1}{x_1-x_2}$"
   ]
  },
  {
   "cell_type": "markdown",
   "metadata": {},
   "source": [
    "#### Demostración:"
   ]
  },
  {
   "cell_type": "markdown",
   "metadata": {},
   "source": [
    "Despejando:"
   ]
  },
  {
   "cell_type": "markdown",
   "metadata": {},
   "source": [
    "$$\\frac{x - x_1}{x_2 - x_1} = \\frac{y - y_1}{y_2 - y_1 };      \n",
    "y-y_1=\\frac{(x - x_1)(y_2 - y_1 )}{x_2 - x_1}; \n",
    "y-y_1=\\frac{xy_2 -xy_1-x_1y_2+x_1y_1}{x_2 - x_1};$$"
   ]
  },
  {
   "cell_type": "markdown",
   "metadata": {},
   "source": [
    "Pasamos término $ y_1 $ a la fracción:"
   ]
  },
  {
   "cell_type": "markdown",
   "metadata": {},
   "source": [
    "$$y=\\frac{xy_2 -xy_1-x_1y_2+x_1y_1}{x_2 - x_1} + y_1;\n",
    "y=\\frac{xy_2 -xy_1-x_1y_2+x_1y_1+y_1({x_2 - x_1})}{x_2 - x_1};$$"
   ]
  },
  {
   "cell_type": "markdown",
   "metadata": {},
   "source": [
    "Operamos y cancelamos el termino $ x_1y_1 $  con $  -y_1x_1 $ :"
   ]
  },
  {
   "cell_type": "markdown",
   "metadata": {},
   "source": [
    "$$y=\\frac{xy_2 -xy_1-x_1y_2+ {x_1y_1}+y_1x_2 - {y_1x_1}}{x_2 - x_1};\n",
    "y=\\frac{xy_2 -xy_1-x_1y_2+y_1x_2}{x_2 - x_1};$$"
   ]
  },
  {
   "cell_type": "markdown",
   "metadata": {},
   "source": [
    "Sacamos factor común a $ x $ y multiplicamos el dividendo y el divisor por $ -1 $:"
   ]
  },
  {
   "cell_type": "markdown",
   "metadata": {},
   "source": [
    "$$y=\\frac{y_2 -y_1}{x_2 - x_1} x -\\frac{x_1y_2+y_1x_2}{x_2 - x_1};\n",
    "y=\\frac{-1\\cdot (y_2 -y_1)}{-1\\cdot (x_2 - x_1)} x -\\frac{-1\\cdot(x_1y_2+y_1x_2)}{-1\\cdot(x_2 - x_1)};$$"
   ]
  },
  {
   "cell_type": "markdown",
   "metadata": {},
   "source": [
    "Obtenemos el resultado:"
   ]
  },
  {
   "cell_type": "markdown",
   "metadata": {},
   "source": [
    "$$y= \\underbrace{\\frac{y_1 -y_2}{x_1 - x_2}}_{m}\\cdot x + \\underbrace{\\frac{x_1y_2 -x_2y_1}{x_1- x_2}}_{b} $$"
   ]
  }
 ],
 "metadata": {
  "kernelspec": {
   "display_name": "Python 3.9.6 64-bit",
   "language": "python",
   "name": "python3"
  },
  "language_info": {
   "name": "python",
   "version": "3.9.6"
  },
  "orig_nbformat": 4,
  "vscode": {
   "interpreter": {
    "hash": "31f2aee4e71d21fbe5cf8b01ff0e069b9275f58929596ceb00d14d90e3e16cd6"
   }
  }
 },
 "nbformat": 4,
 "nbformat_minor": 2
}
