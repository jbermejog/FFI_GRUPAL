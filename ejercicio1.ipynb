{
 "cells": [
  {
   "cell_type": "markdown",
   "metadata": {},
   "source": [
    "## Primer ejercicio\n",
    "\n",
    "\n"
   ]
  },
  {
   "cell_type": "markdown",
   "metadata": {},
   "source": [
    "Haz una tabla rápida con el nombre de cada color del arcoíris (azul, rojo, amarillo, etc.) en una columna, en una segunda columna escribe su longitud de onda (en metros) y en una tercera columna, su frecuencia (en Hercios).\n",
    "\n",
    "|Color|Longitud de onda en $10^{-9}\\ \\mathrm{(m)}$| Frecuencia en $10^{12}\\ \\mathrm{(Hz)}$|\n",
    "|---|---|---|\n",
    "|Rojo|  620 - 750 |  400 - 484|\n",
    "|Naranja|  590 - 620 |  484 - 508 |\n",
    "|Amarillo|  570 - 590|  508 - 526 |\n",
    "|Verde|  495 - 570 |  526 - 606 |\n",
    "|Cian|  475 - 495 |  606 - 630 |\n",
    "|Azul|  450 - 475 |  630 - 668 |\n",
    "|Violeta|  380 - 450 |  668 - 789 |"
   ]
  },
  {
   "cell_type": "markdown",
   "metadata": {},
   "source": [
    "\n",
    "### ¿Cuál es la relación matemática entre longitud de onda y frecuencia de una onda electromagnética?\n",
    "\n",
    "Tenemos que la velocidad es la relacción entre el espacio recorrio en un tiempo determinado\n",
    "\n",
    "$$\\hspace{5cm}v=\\frac{d(m)}{t(s)}$$\n",
    "\n",
    "Si definimos la longitud de onda como la distancia que recorre una onda durante un periodo o ciclo completo, y que en el Sistema Internacional se representa en metros ($m$).\n",
    "\n",
    "Y tenemos que la frecuencia de onda es la relación entre el tiempo y la cantidad de ciclos por unidad de tiempo (también llamado periodo), que en el S.I se reprensenta en $Hz$ que es ($\\frac{1}{s}$)\n",
    "\n",
    "\n",
    "\n",
    "\n",
    "La relación entre longitudes de onda y frecuencias es la velocidad.\n",
    "\n",
    "$$\\hspace{5cm}F=Hz=\\frac{1}{s}$$\n",
    "\n",
    "$$\\hspace{5cm}v=\\frac{m}{s}$$\n",
    "\n",
    "$$\\hspace{5cm}\\lambda=m$$\n",
    "\n",
    "\n",
    "Sustituimos las unidades en la formula :\n",
    "\n",
    "$$\\hspace{5cm}v=F*\\lambda$$\n",
    "\n",
    "$$\\hspace{5cm} {velocidad(v)=longitud\\hspace{0.1cm} de\\hspace{0.1cm}onda(\\lambda ) * frecuencia(f)}=m/s$$\n",
    "\n",
    "<img src=\"img/radio_spectrum_large.jpg\">\n",
    "\n",
    "En el caso de una velocidad de propagación constante $(c)$, la distancia recorrida por una onda, en un periodo es:\n",
    "\n",
    "$$ \\lambda= \\frac{c}{f} $$\n",
    "Despejando f:\n",
    "$$ f=\\frac{c}{\\lambda} $$\n",
    "\n",
    "Al aumentar la frecuencia $(f)$, se reduce la longitud de onda $(\\lambda)$ de manera inversamente proporcional."
   ]
  },
  {
   "cell_type": "markdown",
   "metadata": {},
   "source": []
  }
 ],
 "metadata": {
  "kernelspec": {
   "display_name": "Python 3.9.6 64-bit",
   "language": "python",
   "name": "python3"
  },
  "language_info": {
   "name": "python",
   "version": "3.9.6"
  },
  "orig_nbformat": 4,
  "vscode": {
   "interpreter": {
    "hash": "31f2aee4e71d21fbe5cf8b01ff0e069b9275f58929596ceb00d14d90e3e16cd6"
   }
  }
 },
 "nbformat": 4,
 "nbformat_minor": 2
}
