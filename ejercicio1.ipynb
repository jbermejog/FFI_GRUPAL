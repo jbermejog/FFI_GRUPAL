{
  "cells": [
    {
      "cell_type": "markdown",
      "source": [
        "## Primer ejercicio\n",
        "\n",
        "\n"
      ],
      "metadata": {}
    },
    {
      "cell_type": "markdown",
      "source": [
        "### 1.1 Haz una tabla rápida con el nombre de cada color del arcoíris (azul, rojo, amarillo, etc.) en una columna, en una segunda columna escribe su longitud de onda (en metros) y en una tercera columna, su frecuencia (en Hercios).\n",
        "\n",
        "### Resolución\n",
        "\n",
        "$v =  λ  \\cdot f $\n",
        "\n",
        "Siendo:\n",
        "\n",
        "$v$ = rapidez de propagación (m/s).\n",
        "\n",
        "$λ$  = longitud de onda (nm). Donde 1nm= 10e-9 m\n",
        "\n",
        "$f$ = frecuencia (Hz). Donde 1Hz = 1/s\n",
        "\n",
        "Si despejamos $f$ obtenemos: $f=\\frac{v}{λ}$\n",
        "\n",
        "La velocidad de propagación se denomina _**c**_ y depende del medio en el que se propague.\n",
        "\n",
        "Tomaremos el medio de propagación el vacio, entonces la velocidad de propagación será:\n",
        "\n",
        "$v = 3 \\cdot 10^{8} \\frac {m}{s}$\n",
        "\n",
        "\n",
        "Ahora vamos a calcular las frecuencias a partir de las longitudes de onda para cada color del arcoiris.\n",
        "\n",
        "_**ROJO**_\n",
        "\n",
        "Su longitud de onda va desde 620 a 750 lo calcularemos para su valor medio  685\n",
        "\n",
        "$λ= 685\\cdot10^{-9}m$\n",
        "$f=\\frac {v}{λ}= \\frac{3\\cdot10^{8}m/s}{685\\cdot10^{-9}m}=> f= 437\\cdot10^{12}Hz $\n",
        "\n",
        "_**NARANJA**_\n",
        "\n",
        "Su longitud de onda va desde 590 a 620 lo calcularemos para su valor medio  605\n",
        "\n",
        "$λ= 605\\cdot10^{-9}m$\n",
        "$f=\\frac {v}{λ}= \\frac{3\\cdot10^{8}m/s}{605\\cdot10^{-9}m}=> f= 495\\cdot10^{12}Hz $\n",
        "\n",
        "_**AMARILLO**_\n",
        "\n",
        "Su longitud de onda va desde 570 a 590 lo calcularemos para su valor medio 580\n",
        "\n",
        "$λ= 580\\cdot10^{-9}m$\n",
        "$f=\\frac {v}{λ}= \\frac{3\\cdot10^{8}m/s}{580\\cdot10^{-9}m}=> f= 517\\cdot10^{12}Hz $\n",
        "\n",
        "_**VERDE**_\n",
        "\n",
        "Su longitud de onda va desde 495 a 570 lo calcularemos para su valor medio 532\n",
        "\n",
        "$λ= 532\\cdot10^{-9}m$\n",
        "$f=\\frac {v}{λ}= \\frac{3\\cdot10^{8}m/s}{532\\cdot10^{-9}m}=> f= 563\\cdot10^{12}Hz $\n",
        "\n",
        "_**CIAN**_\n",
        "\n",
        "Su longitud de onda va desde 475 a 495 lo calcularemos para su valor medio 485\n",
        "\n",
        "$λ= 485\\cdot10^{-9}m$\n",
        "$f=\\frac {v}{λ}= \\frac{3\\cdot10^{8}m/s}{485\\cdot10^{-9}m}=> f= 618\\cdot10^{12}Hz $\n",
        "\n",
        "_**AZUL**_\n",
        "\n",
        "Su longitud de onda va desde 450 a 475 lo calcularemos para su valor medio 462\n",
        "\n",
        "$λ= 462\\cdot10^{-9}m$\n",
        "$f=\\frac {v}{λ}= \\frac{3\\cdot10^{8}m/s}{462\\cdot10^{-9}m}=> f= 649\\cdot10^{12}Hz $\n",
        "\n",
        "_**VIOLETA**_\n",
        "\n",
        "Su longitud de onda va desde 380 a 450 lo calcularemos para su valor medio 415\n",
        "\n",
        "$λ= 415\\cdot10^{-9}m$\n",
        "$f=\\frac {v}{λ}= \\frac{3\\cdot10^{8}m/s}{415\\cdot10^{-9}m}=> f= 722\\cdot10^{12}Hz $\n",
        "\n"
      ],
      "metadata": {}
    },
    {
      "cell_type": "markdown",
      "source": [
        "\n",
        "|Color|Longitud de onda ($10^{-9}\\ \\mathrm{(m)}$) | Frecuencia ($10^{12}Hz$)|\n",
        "|---|---|---|\n",
        "|Rojo|  685 |  437 |\n",
        "|Naranja|  605 |  495 |\n",
        "|Amarillo|  580  |  517 |\n",
        "|Verde|  532 |  563 |\n",
        "|Cian|  485 |  618 |\n",
        "|Azul|  462 |  649 |\n",
        "|Violeta|  415 |  722 |"
      ],
      "metadata": {}
    },
    {
      "cell_type": "markdown",
      "source": [
        "\n",
        "### 1.2 ¿Cuál es la relación matemática entre longitud de onda y frecuencia de una onda electromagnética?\n",
        "\n",
        "Tenemos que la velocidad es la relacción entre el espacio recorrio en un tiempo determinado\n",
        "\n",
        "$v=\\frac{d(m)}{t(s)}$\n",
        "\n",
        "Sabiendo que la longitud de onda es la distancia que recorre una onda durante un periodo o ciclo completo, y que en el Sistema Internacional se representa en metros ($m$).\n",
        "\n",
        "<img src=\"https://github.com/jbermejog/FFI_GRUPAL/blob/main/img/radio_spectrum_large.jpg?raw=true\" alt=\"Radio espectro\" width=450 />\n",
        "\n",
        "Y tenemos que la frecuencia de onda es la relación entre el tiempo y la cantidad de ciclos por unidad de tiempo (también llamado periodo), que en el S.I se reprensenta en $Hz$ que es ($\\frac{1}{s}$)\n",
        "\n",
        "\n",
        "\n",
        "\n",
        "La relación entre longitudes de onda y frecuencias es la velocidad.\n",
        "\n",
        "$f=Hz=\\frac{1}{s}$\n",
        "\n",
        "$v=\\frac{m}{s}$\n",
        "\n",
        "$\\lambda=m$\n",
        "\n",
        "\n",
        "Sustituimos las unidades en la formula :\n",
        "\n",
        "$v=f*\\lambda$\n",
        "\n",
        "${velocidad(v)=longitud\\hspace{0.1cm} de\\hspace{0.1cm}onda(\\lambda ) * frecuencia(f)}=m/s$\n",
        "\n",
        "\n",
        "\n",
        "En el caso de una velocidad de propagación constante $(c)$, la distancia recorrida por una onda, en un periodo es:\n",
        "\n",
        "$ \\lambda= \\frac{c}{f} $\n",
        "\n",
        "Despejando $f$:\n",
        "\n",
        "$ f=\\frac{c}{\\lambda} $\n",
        "\n",
        "Al aumentar la frecuencia $(f)$, se reduce la longitud de onda $(\\lambda)$ de manera inversamente proporcional."
      ],
      "metadata": {}
    },
    {
      "cell_type": "markdown",
      "source": [
        "### 1.3 Toma de medidas con el applet del efecto fotoeléctrico"
      ],
      "metadata": {}
    },
    {
      "cell_type": "markdown",
      "source": [
        "#### Observación para el Sodium\n",
        "\n",
        "Observaciones obtenidas en el applet para el Sodium.\n",
        "\n",
        "| $$\\lambda=466{nm} ; V=-0.20_V$$ | $$\\lambda=440{nm} ; V=-0.40_V$$ |\n",
        "------ | ------ |\n",
        "| <img src=\"https://github.com/jbermejog/FFI_GRUPAL/blob/main/img/sodium/Sodium-20.gif?raw=true\" alt=\"Sodium V=-20\" width=450 /> |  <img src=\"https://github.com/jbermejog/FFI_GRUPAL/blob/main/img/sodium/Sodium-40.gif?raw=true\" alt=\"Sodium V=-40\" width=450 /> |\n",
        "\n",
        "| $$\\lambda=415{nm} ; V=-0.60_V$$ | $$\\lambda= 390{nm} ; V=-0.80_V$$ |\n",
        "------ | ------ |\n",
        "| <img src=\"https://github.com/jbermejog/FFI_GRUPAL/blob/main/img/sodium/Sodium-60.gif?raw=true\" alt=\"Sodium V=-60\" width=450 /> |  <img src=\"https://github.com/jbermejog/FFI_GRUPAL/blob/main/img/sodium/Sodium-80.gif?raw=true\" alt=\"Sodium V=-80\" width=450 /> |\n"
      ],
      "metadata": {}
    },
    {
      "cell_type": "markdown",
      "source": [
        "#### Observación para el Zinc\n",
        "\n",
        "Observaciones obtenidas en el applet para el Zinc.\n",
        "\n",
        "| $$\\lambda=262{nm} ; V=-0.20_V$$ | $$\\lambda=254{nm}; V=-0.40_V$$ |\n",
        "------ | ------ |\n",
        "| <img src=\"https://github.com/jbermejog/FFI_GRUPAL/blob/main/img/zinc/Zinc-20.gif?raw=true\" alt=\"Zinc V= -20\" width=450 /> |  <img src=\"https://github.com/jbermejog/FFI_GRUPAL/blob/main/img/zinc/Zinc-40.gif?raw=true\" alt=\"Zinc V=-40\" width=450 /> |\n",
        "\n",
        "| $$\\lambda=246{nm} ; V=-0.60_V$$ | $$\\lambda= 239{nm} ; V=-0.80_V$$ |\n",
        "------ | ------ |\n",
        "| <img src=\"https://github.com/jbermejog/FFI_GRUPAL/blob/main/img/zinc/Zinc-60.gif?raw=true\" alt=\"Zinc V= -60\" width=450 /> |  <img src=\"https://github.com/jbermejog/FFI_GRUPAL/blob/main/img/zinc/Zinc-80.gif?raw=true\" alt=\"Zinc V=-80\" width=450 /> |"
      ],
      "metadata": {}
    },
    {
      "cell_type": "markdown",
      "source": [
        "### 1.4 Ajuste a una recta con regression.js"
      ],
      "metadata": {}
    },
    {
      "cell_type": "markdown",
      "source": [
        "##### PARA SODIUM"
      ],
      "metadata": {}
    },
    {
      "cell_type": "code",
      "source": [
        "var longitudes_de_onda_medidas_sodium = [466, 440, 415, 390].map(x => x*1e-9);  // para pasar a metros \n",
        "\n",
        "var voltajes_medidos_sodium = [-0.20, -0.40, -0.60, -0.80];  // en voltios (voltaje de frenado) "
      ],
      "outputs": [],
      "execution_count": 1,
      "metadata": {
        "collapsed": true,
        "execution": {
          "iopub.execute_input": "2022-12-03T12:11:38.302Z",
          "iopub.status.busy": "2022-12-03T12:11:38.299Z",
          "iopub.status.idle": "2022-12-03T12:11:38.306Z",
          "shell.execute_reply": "2022-12-03T12:11:38.238Z"
        },
        "jupyter": {
          "outputs_hidden": false,
          "source_hidden": false
        },
        "nteract": {
          "transient": {
            "deleting": false
          }
        },
        "vscode": {
          "languageId": "javascript"
        }
      }
    },
    {
      "cell_type": "code",
      "source": [
        "inversa_de_longitudes_de_onda_sodium = longitudes_de_onda_medidas_sodium.map(lambda => 1/lambda );\n",
        "\n",
        "var datos_a_ajustar_sodium = voltajes_medidos_sodium.reduce((tuplas_longitud_onda_voltaje, b, i) => {\n",
        "\n",
        "    tuplas_longitud_onda_voltaje.push([inversa_de_longitudes_de_onda_sodium[i], b]);\n",
        "\n",
        "return tuplas_longitud_onda_voltaje;\n",
        "\n",
        "}, []);\n",
        "\n",
        "console.log(datos_a_ajustar_sodium); // Tuplas de valores 1/lambda y voltajes"
      ],
      "outputs": [
        {
          "output_type": "stream",
          "name": "stdout",
          "text": [
            "[\n",
            "  [ 2145922.746781116, -0.2 ],\n",
            "  [ 2272727.2727272725, -0.4 ],\n",
            "  [ 2409638.5542168673, -0.6 ],\n",
            "  [ 2564102.564102564, -0.8 ]\n",
            "]\n"
          ]
        }
      ],
      "execution_count": 2,
      "metadata": {
        "collapsed": true,
        "execution": {
          "iopub.execute_input": "2022-12-03T12:11:38.313Z",
          "iopub.status.busy": "2022-12-03T12:11:38.310Z",
          "iopub.status.idle": "2022-12-03T12:11:38.319Z",
          "shell.execute_reply": "2022-12-03T12:11:38.243Z"
        },
        "jupyter": {
          "outputs_hidden": false,
          "source_hidden": false
        },
        "nteract": {
          "transient": {
            "deleting": false
          }
        },
        "vscode": {
          "languageId": "javascript"
        }
      }
    },
    {
      "cell_type": "code",
      "source": [
        "var regression = require('./regression.js'); \n",
        "\n",
        "var result_sodium = regression.linear(datos_a_ajustar_sodium, { precision: 15 }); \n",
        "\n",
        "var m_sodium = result_sodium.equation[0];  // pendiente \n",
        "\n",
        "var b_sodium = result_sodium.equation[1];  // ordenada en origen \n",
        "\n",
        "console.log('la pendiente es = ' + m_sodium + ' y la ordenada es = ' + b_sodium); "
      ],
      "outputs": [
        {
          "output_type": "stream",
          "name": "stdout",
          "text": [
            "la pendiente es = -0.000001434473594 y la ordenada es = 2.868284267933406\n"
          ]
        }
      ],
      "execution_count": 3,
      "metadata": {
        "collapsed": true,
        "execution": {
          "iopub.execute_input": "2022-12-03T12:11:38.326Z",
          "iopub.status.busy": "2022-12-03T12:11:38.323Z",
          "iopub.status.idle": "2022-12-03T12:11:38.332Z",
          "shell.execute_reply": "2022-12-03T12:11:38.248Z"
        },
        "jupyter": {
          "outputs_hidden": false,
          "source_hidden": false
        },
        "nteract": {
          "transient": {
            "deleting": false
          }
        },
        "vscode": {
          "languageId": "javascript"
        }
      }
    },
    {
      "cell_type": "code",
      "source": [
        "function Plotly(data, layout, $$) { \n",
        "\n",
        "    $$ = $$ || global.$$; \n",
        "\n",
        "    $$.mime({ \"application/vnd.plotly.v1+json\": { data: data, layout: layout } }); \n",
        "\n",
        "} "
      ],
      "outputs": [],
      "execution_count": 4,
      "metadata": {
        "collapsed": true,
        "execution": {
          "iopub.execute_input": "2022-12-03T12:11:38.339Z",
          "iopub.status.busy": "2022-12-03T12:11:38.336Z",
          "iopub.status.idle": "2022-12-03T12:11:38.343Z",
          "shell.execute_reply": "2022-12-03T12:11:38.252Z"
        },
        "jupyter": {
          "outputs_hidden": false,
          "source_hidden": false
        },
        "nteract": {
          "transient": {
            "deleting": false
          }
        },
        "vscode": {
          "languageId": "javascript"
        }
      }
    },
    {
      "cell_type": "code",
      "source": [
        "voltajes_de_frenado_calculados_sodium = inversa_de_longitudes_de_onda_sodium.map(inversa_lambda => inversa_lambda * m_sodium + b_sodium); "
      ],
      "outputs": [
        {
          "output_type": "execute_result",
          "execution_count": 5,
          "data": {
            "text/plain": "[\n  -0.20998524708805277,\n  -0.39188299115750214,\n  -0.5882786091750272,\n  -0.8098531525794139\n]"
          },
          "metadata": {}
        }
      ],
      "execution_count": 5,
      "metadata": {
        "collapsed": true,
        "execution": {
          "iopub.execute_input": "2022-12-03T12:11:38.350Z",
          "iopub.status.busy": "2022-12-03T12:11:38.347Z",
          "iopub.status.idle": "2022-12-03T12:11:38.356Z",
          "shell.execute_reply": "2022-12-03T12:11:38.255Z"
        },
        "jupyter": {
          "outputs_hidden": false,
          "source_hidden": false
        },
        "nteract": {
          "transient": {
            "deleting": false
          }
        },
        "vscode": {
          "languageId": "javascript"
        }
      }
    },
    {
      "cell_type": "code",
      "source": [
        "datos_sodium = [ \n",
        "  { x: inversa_de_longitudes_de_onda_sodium, y: voltajes_medidos_sodium, name: 'Datos experimentales' },  \n",
        "  { x: inversa_de_longitudes_de_onda_sodium, y: voltajes_de_frenado_calculados_sodium, name: 'Datos calculados tras ajuste' } \n",
        "]; \n",
        "var layout_sodium = { \n",
        "  title: 'Gráfica para el Sodium', \n",
        "  xaxis: { title: 'Longitud de onda (m e-1)', \n",
        "    titlefont: { family: 'Courier New, monospace', size: 18, color: '#7f7f7f' } \n",
        "  }, \n",
        "  yaxis: { \n",
        "    title: 'Voltajes de frenado (V)', titlefont: { \n",
        "      family: 'Courier New, monospace', size: 18, color: '#7f7f7f' } \n",
        "  } \n",
        "}; \n",
        "Plotly(datos_sodium, layout_sodium); "
      ],
      "outputs": [
        {
          "output_type": "execute_result",
          "execution_count": 6,
          "data": {
            "application/vnd.plotly.v1+json": {
              "data": [
                {
                  "x": [
                    2145922.746781116,
                    2272727.2727272725,
                    2409638.5542168673,
                    2564102.564102564
                  ],
                  "y": [
                    -0.2,
                    -0.4,
                    -0.6,
                    -0.8
                  ],
                  "name": "Datos experimentales"
                },
                {
                  "x": [
                    2145922.746781116,
                    2272727.2727272725,
                    2409638.5542168673,
                    2564102.564102564
                  ],
                  "y": [
                    -0.20998524708805277,
                    -0.39188299115750214,
                    -0.5882786091750272,
                    -0.8098531525794139
                  ],
                  "name": "Datos calculados tras ajuste"
                }
              ],
              "layout": {
                "title": "Gráfica para el Sodium",
                "xaxis": {
                  "title": "Longitud de onda (m e-1)",
                  "titlefont": {
                    "family": "Courier New, monospace",
                    "size": 18,
                    "color": "#7f7f7f"
                  }
                },
                "yaxis": {
                  "title": "Voltajes de frenado (V)",
                  "titlefont": {
                    "family": "Courier New, monospace",
                    "size": 18,
                    "color": "#7f7f7f"
                  }
                }
              }
            }
          },
          "metadata": {}
        }
      ],
      "execution_count": 6,
      "metadata": {
        "collapsed": true,
        "execution": {
          "iopub.execute_input": "2022-12-03T12:11:38.365Z",
          "iopub.status.busy": "2022-12-03T12:11:38.362Z",
          "iopub.status.idle": "2022-12-03T12:11:38.415Z",
          "shell.execute_reply": "2022-12-03T12:11:38.258Z"
        },
        "jupyter": {
          "outputs_hidden": false,
          "source_hidden": false
        },
        "nteract": {
          "transient": {
            "deleting": false
          }
        },
        "vscode": {
          "languageId": "javascript"
        }
      }
    },
    {
      "cell_type": "markdown",
      "source": [
        "##### PARA EL ZINC"
      ],
      "metadata": {}
    },
    {
      "cell_type": "code",
      "source": [
        "var longitudes_de_onda_medidas_zinc = [262, 254, 246, 239].map(x => x*1e-9);  // para pasar a metros \n",
        "\n",
        "var voltajes_medidos_zinc = [-0.20, -0.40, -0.60, -0.80];  // en voltios (voltaje de frenado) "
      ],
      "outputs": [],
      "execution_count": 7,
      "metadata": {
        "collapsed": true,
        "execution": {
          "iopub.execute_input": "2022-12-03T12:11:38.422Z",
          "iopub.status.busy": "2022-12-03T12:11:38.419Z",
          "iopub.status.idle": "2022-12-03T12:11:38.426Z",
          "shell.execute_reply": "2022-12-03T12:11:38.262Z"
        },
        "jupyter": {
          "outputs_hidden": false,
          "source_hidden": false
        },
        "nteract": {
          "transient": {
            "deleting": false
          }
        },
        "vscode": {
          "languageId": "javascript"
        }
      }
    },
    {
      "cell_type": "code",
      "source": [
        "inversa_de_longitudes_de_onda_zinc = longitudes_de_onda_medidas_zinc.map(lambda => 1/lambda );\n",
        "\n",
        "var datos_a_ajustar_zinc = voltajes_medidos_zinc.reduce((tuplas_longitud_onda_voltaje, b, i) => {\n",
        "\n",
        "    tuplas_longitud_onda_voltaje.push([inversa_de_longitudes_de_onda_zinc[i], b]);\n",
        "\n",
        "return tuplas_longitud_onda_voltaje;\n",
        "\n",
        "}, []);\n",
        "\n",
        "console.log(datos_a_ajustar_zinc); // Tuplas de valores 1/lambda y voltajes"
      ],
      "outputs": [
        {
          "output_type": "stream",
          "name": "stdout",
          "text": [
            "[\n",
            "  [ 3816793.893129771, -0.2 ],\n",
            "  [ 3937007.8740157476, -0.4 ],\n",
            "  [ 4065040.650406504, -0.6 ],\n",
            "  [ 4184100.418410042, -0.8 ]\n",
            "]\n"
          ]
        }
      ],
      "execution_count": 8,
      "metadata": {
        "collapsed": true,
        "execution": {
          "iopub.execute_input": "2022-12-03T12:11:38.433Z",
          "iopub.status.busy": "2022-12-03T12:11:38.430Z",
          "iopub.status.idle": "2022-12-03T12:11:38.442Z",
          "shell.execute_reply": "2022-12-03T12:11:38.265Z"
        },
        "jupyter": {
          "outputs_hidden": false,
          "source_hidden": false
        },
        "nteract": {
          "transient": {
            "deleting": false
          }
        },
        "vscode": {
          "languageId": "javascript"
        }
      }
    },
    {
      "cell_type": "code",
      "source": [
        "var regression = require('./regression.js'); \n",
        "\n",
        "var result_zinc = regression.linear(datos_a_ajustar_zinc, { precision: 15 }); \n",
        "\n",
        "var m_zinc = result_zinc.equation[0];  // pendiente \n",
        "\n",
        "var b_zinc = result_zinc.equation[1];  // ordenada en origen \n",
        "\n",
        "console.log('la pendiente es = ' + m_zinc + ' y la ordenada es = ' + b_zinc); "
      ],
      "outputs": [
        {
          "output_type": "stream",
          "name": "stdout",
          "text": [
            "la pendiente es = -0.000001625769069 y la ordenada es = 6.004272368920566\n"
          ]
        }
      ],
      "execution_count": 9,
      "metadata": {
        "collapsed": true,
        "execution": {
          "iopub.execute_input": "2022-12-03T12:11:38.449Z",
          "iopub.status.busy": "2022-12-03T12:11:38.447Z",
          "iopub.status.idle": "2022-12-03T12:11:38.455Z",
          "shell.execute_reply": "2022-12-03T12:11:38.269Z"
        },
        "jupyter": {
          "outputs_hidden": false,
          "source_hidden": false
        },
        "nteract": {
          "transient": {
            "deleting": false
          }
        },
        "vscode": {
          "languageId": "javascript"
        }
      }
    },
    {
      "cell_type": "code",
      "source": [
        "function Plotly(data, layout, $$) { \n",
        "\n",
        "    $$ = $$ || global.$$; \n",
        "\n",
        "    $$.mime({ \"application/vnd.plotly.v1+json\": { data: data, layout: layout } }); \n",
        "\n",
        "} "
      ],
      "outputs": [],
      "execution_count": 10,
      "metadata": {
        "collapsed": true,
        "execution": {
          "iopub.execute_input": "2022-12-03T12:11:38.462Z",
          "iopub.status.busy": "2022-12-03T12:11:38.460Z",
          "iopub.status.idle": "2022-12-03T12:11:38.466Z",
          "shell.execute_reply": "2022-12-03T12:11:38.276Z"
        },
        "jupyter": {
          "outputs_hidden": false,
          "source_hidden": false
        },
        "nteract": {
          "transient": {
            "deleting": false
          }
        },
        "vscode": {
          "languageId": "javascript"
        }
      }
    },
    {
      "cell_type": "code",
      "source": [
        "voltajes_de_frenado_calculados_zinc = inversa_de_longitudes_de_onda_zinc.map(inversa_lambda => inversa_lambda * m_zinc + b_zinc); "
      ],
      "outputs": [
        {
          "output_type": "execute_result",
          "execution_count": 11,
          "data": {
            "text/plain": "[\n  -0.20095308527790756,\n  -0.39639325706368567,\n  -0.6045449847379709,\n  -0.7981086729204385\n]"
          },
          "metadata": {}
        }
      ],
      "execution_count": 11,
      "metadata": {
        "collapsed": true,
        "execution": {
          "iopub.execute_input": "2022-12-03T12:11:38.477Z",
          "iopub.status.busy": "2022-12-03T12:11:38.471Z",
          "iopub.status.idle": "2022-12-03T12:11:38.484Z",
          "shell.execute_reply": "2022-12-03T12:11:38.279Z"
        },
        "jupyter": {
          "outputs_hidden": false,
          "source_hidden": false
        },
        "nteract": {
          "transient": {
            "deleting": false
          }
        },
        "vscode": {
          "languageId": "javascript"
        }
      }
    },
    {
      "cell_type": "code",
      "source": [
        "datos_zinc = [ \n",
        "  { x: inversa_de_longitudes_de_onda_zinc, y: voltajes_medidos_zinc, name: 'Datos experimentales' },  \n",
        "  { x: inversa_de_longitudes_de_onda_zinc, y: voltajes_de_frenado_calculados_zinc, name: 'Datos calculados tras ajuste' } \n",
        "]; \n",
        "var layout_zinc = { \n",
        "  title: 'Gráfica para el Zinc', \n",
        "  xaxis: { title: 'Longitud de onda (m e-1)', \n",
        "    titlefont: { family: 'Courier New, monospace', size: 18, color: '#7f7f7f' } \n",
        "  }, \n",
        "  yaxis: { \n",
        "    title: 'Voltajes de frenado (V)', titlefont: { \n",
        "      family: 'Courier New, monospace', size: 18, color: '#7f7f7f' } \n",
        "  } \n",
        "}; \n",
        "Plotly(datos_zinc, layout_zinc); "
      ],
      "outputs": [
        {
          "output_type": "execute_result",
          "execution_count": 12,
          "data": {
            "application/vnd.plotly.v1+json": {
              "data": [
                {
                  "x": [
                    3816793.893129771,
                    3937007.8740157476,
                    4065040.650406504,
                    4184100.418410042
                  ],
                  "y": [
                    -0.2,
                    -0.4,
                    -0.6,
                    -0.8
                  ],
                  "name": "Datos experimentales"
                },
                {
                  "x": [
                    3816793.893129771,
                    3937007.8740157476,
                    4065040.650406504,
                    4184100.418410042
                  ],
                  "y": [
                    -0.20095308527790756,
                    -0.39639325706368567,
                    -0.6045449847379709,
                    -0.7981086729204385
                  ],
                  "name": "Datos calculados tras ajuste"
                }
              ],
              "layout": {
                "title": "Gráfica para el Zinc",
                "xaxis": {
                  "title": "Longitud de onda (m e-1)",
                  "titlefont": {
                    "family": "Courier New, monospace",
                    "size": 18,
                    "color": "#7f7f7f"
                  }
                },
                "yaxis": {
                  "title": "Voltajes de frenado (V)",
                  "titlefont": {
                    "family": "Courier New, monospace",
                    "size": 18,
                    "color": "#7f7f7f"
                  }
                }
              }
            }
          },
          "metadata": {}
        }
      ],
      "execution_count": 12,
      "metadata": {
        "collapsed": true,
        "execution": {
          "iopub.execute_input": "2022-12-03T12:11:38.491Z",
          "iopub.status.busy": "2022-12-03T12:11:38.488Z",
          "iopub.status.idle": "2022-12-03T12:11:38.519Z",
          "shell.execute_reply": "2022-12-03T12:11:38.283Z"
        },
        "jupyter": {
          "outputs_hidden": false,
          "source_hidden": false
        },
        "nteract": {
          "transient": {
            "deleting": false
          }
        },
        "vscode": {
          "languageId": "javascript"
        }
      }
    },
    {
      "cell_type": "markdown",
      "source": [],
      "metadata": {}
    },
    {
      "cell_type": "markdown",
      "source": [
        "## Ejercicio Premium\n",
        "\n",
        "\n",
        "Modifica ahora el control de intensidad de la luz (el que va entre 0 y el 100%) para una longitud de onda de 200 nm y un metal a tu elección.\n",
        "\n",
        "¿Qué le ocurre a la corriente que se mide con el amperímetro?\n",
        "\n",
        "Haz una gráfica que represente el amperaje medido respecto a dicha intensidad de luz. ¿Qué relación se observa?"
      ],
      "metadata": {}
    },
    {
      "cell_type": "markdown",
      "source": [
        "#### Resolución Premium\n",
        "\n",
        "\n",
        "Colocamos la longitud de onda en $200nm$ y la intensidad en $0$, con voltaje en $0.00$.\n",
        "\n",
        "Para representar gráficamente dicha relación, aumentamos la intensidad de la luz gradualmente y anotamos las variaciones medidas con el amperímetro para cada valor de intesidad.\n",
        "\n",
        "<img src=\"https://github.com/jbermejog/FFI_GRUPAL/blob/main/img/intensity_sodium.gif?raw=true\" alt=\"Aumento Intensidad con Sodium\" width=450 />\n",
        "\n",
        "Los datos recogidos de manera experimental utilizando el  applet de Java, los guardamos en sus arrays correspondientes.\n",
        "\n"
      ],
      "metadata": {}
    },
    {
      "cell_type": "markdown",
      "source": [
        "#### Sodium\n",
        "\n",
        "\n",
        "Datos recogidos en el applet. {Intensidad, Amperaje}\n",
        "\n",
        "{$I= 0$ ,  $A= 0.000$}\n",
        "\n",
        "{$I= 20$ , $A= 0.335$}\n",
        "\n",
        "{$I= 40$ , $A= 0.671$}\n",
        "\n",
        "{$I= 60$ , $A= 1.006$}\n",
        "\n",
        "{$I= 80$ , $A= 1.341$}\n",
        "\n",
        "{$I= 100$ , $A= 1.677$}"
      ],
      "metadata": {}
    },
    {
      "cell_type": "code",
      "source": [
        "// Creamos las variables y guardamos los datos recogidos en ellas\n",
        "// I= intensidad de la luz\n",
        "// A= Amperios\n",
        "var I_Sodium=[0, 20, 40, 60, 80, 100];\n",
        "var A_Sodium=[0.000, 0.335, 0.671, 1.006, 1.341, 1.677];"
      ],
      "outputs": [],
      "execution_count": 13,
      "metadata": {
        "collapsed": false,
        "execution": {
          "iopub.execute_input": "2022-12-03T12:11:38.527Z",
          "iopub.status.busy": "2022-12-03T12:11:38.524Z",
          "iopub.status.idle": "2022-12-03T12:11:38.530Z",
          "shell.execute_reply": "2022-12-03T12:11:38.286Z"
        },
        "inputHidden": false,
        "outputHidden": false,
        "vscode": {
          "languageId": "javascript"
        }
      }
    },
    {
      "cell_type": "code",
      "source": [
        "datos_Premium_Sodium = [\n",
        "  { x:I_Sodium, \n",
        "   y: A_Sodium, \n",
        "   name: 'Datos experimentales', \n",
        "   marker:{color: '#ff0d0d',size: 5 },\n",
        "   line:{color:'#ff0d0d',width: 2}},\n",
        "   \n",
        "];\n",
        "var layout_Premium_Sodium = {title: 'Gráfica para el Sodium',\n",
        "                     \n",
        "  xaxis: {\n",
        "    title: 'Intensidad de la luz (%)',\n",
        "    titlefont: { family: 'Courier New, monospace', size: 18, color: '#cc00ff' }},\n",
        "    \n",
        "  yaxis: {\n",
        "    title: 'Amperios (A)', \n",
        "    titlefont: {family: 'Courier New, monospace', size: 18, color: '#cc00ff' }}\n",
        "};\n",
        "Plotly(datos_Premium_Sodium, layout_Premium_Sodium);"
      ],
      "outputs": [
        {
          "output_type": "execute_result",
          "execution_count": 14,
          "data": {
            "application/vnd.plotly.v1+json": {
              "data": [
                {
                  "x": [
                    0,
                    20,
                    40,
                    60,
                    80,
                    100
                  ],
                  "y": [
                    0,
                    0.335,
                    0.671,
                    1.006,
                    1.341,
                    1.677
                  ],
                  "name": "Datos experimentales",
                  "marker": {
                    "color": "#ff0d0d",
                    "size": 5
                  },
                  "line": {
                    "color": "#ff0d0d",
                    "width": 2
                  }
                }
              ],
              "layout": {
                "title": "Gráfica para el Sodium",
                "xaxis": {
                  "title": "Intensidad de la luz (%)",
                  "titlefont": {
                    "family": "Courier New, monospace",
                    "size": 18,
                    "color": "#cc00ff"
                  }
                },
                "yaxis": {
                  "title": "Amperios (A)",
                  "titlefont": {
                    "family": "Courier New, monospace",
                    "size": 18,
                    "color": "#cc00ff"
                  }
                }
              }
            }
          },
          "metadata": {}
        }
      ],
      "execution_count": 14,
      "metadata": {
        "collapsed": false,
        "execution": {
          "iopub.execute_input": "2022-12-03T12:11:38.540Z",
          "iopub.status.busy": "2022-12-03T12:11:38.537Z",
          "iopub.status.idle": "2022-12-03T12:11:38.561Z",
          "shell.execute_reply": "2022-12-03T12:11:38.289Z"
        },
        "inputHidden": false,
        "outputHidden": false,
        "vscode": {
          "languageId": "javascript"
        }
      }
    }
  ],
  "metadata": {
    "kernel_info": {
      "name": "node_nteract"
    },
    "kernelspec": {
      "display_name": "Python 3.10.6 64-bit",
      "language": "python",
      "name": "python3"
    },
    "language_info": {
      "name": "javascript",
      "version": "12.8.1",
      "mimetype": "application/javascript",
      "file_extension": ".js"
    },
    "nteract": {
      "version": "0.28.0"
    },
    "vscode": {
      "interpreter": {
        "hash": "b0fa6594d8f4cbf19f97940f81e996739fb7646882a419484c72d19e05852a7e"
      }
    }
  },
  "nbformat": 4,
  "nbformat_minor": 1
}