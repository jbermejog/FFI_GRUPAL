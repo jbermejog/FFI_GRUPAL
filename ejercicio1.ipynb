{
 "cells": [
  {
   "cell_type": "markdown",
   "metadata": {},
   "source": [
    "## Primer ejercicio\n",
    "\n",
    "\n"
   ]
  },
  {
   "cell_type": "markdown",
   "metadata": {},
   "source": [
    "Haz una tabla rápida con el nombre de cada color del arcoíris (azul, rojo, amarillo, etc.) en una columna, en una segunda columna escribe su longitud de onda (en metros) y en una tercera columna, su frecuencia (en Hercios).\n",
    "\n",
    "|Color|Longitud de onda en $10^{-9}\\ \\mathrm{(m)}$| Frecuencia en $10^{12}\\ \\mathrm{(Hz)}$|\n",
    "|---|---|---|\n",
    "|Rojo|  620 - 750 |  400 - 484|\n",
    "|Ámbar|  590 - 620 |  484 - 508 |\n",
    "|Amarillo|  570 - 590|  508 - 526 |\n",
    "|Verde|  495 - 570 |  526 - 606 |\n",
    "|Cian|  475 - 495 |  606 - 630 |\n",
    "|Azul|  450 - 475 |  630 - 668 |\n",
    "|Violeta|  380 - 450 |  668 - 789 |"
   ]
  },
  {
   "cell_type": "markdown",
   "metadata": {},
   "source": [
    "\n",
    "### ¿Cuál es la relación matemática entre longitud de onda y frecuencia de una onda electromagnética?\n",
    "\n",
    "Sabiendo que la longitud de onda es la distancia que recorre una onda durante un periodo o ciclo completo, que en el sistema métrico internacional se expresa en $ \\mathrm{(m)} $, y que la frecuencia es la relación entre el tiempo y la cantidad de ciclos por unidad de tiempo (periodo), que en el sistema métrico internacional se expresa en $ \\mathrm{(Hz)} $\n",
    "\n",
    "Al aumentar la frecuencia $(f)$, se reduce la longitud de onda $(\\lambda)$ de manera inversamente proporcional.\n",
    "\n",
    "En el caso de una velocidad de propagación constante $(c)$, la distancia recorrida por una onda, en un periodo es:\n",
    "\n",
    "$$ \\lambda= \\frac{c}{f} $$\n",
    "Despejando f:\n",
    "$$ f=\\frac{c}{\\lambda} $$"
   ]
  },
  {
   "cell_type": "markdown",
   "metadata": {},
   "source": []
  }
 ],
 "metadata": {
  "language_info": {
   "name": "python"
  },
  "orig_nbformat": 4
 },
 "nbformat": 4,
 "nbformat_minor": 2
}
