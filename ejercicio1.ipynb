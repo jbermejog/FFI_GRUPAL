{
 "cells": [
  {
   "cell_type": "markdown",
   "metadata": {},
   "source": [
    "## Primer ejercicio\n",
    "\n",
    "\n"
   ]
  },
  {
   "cell_type": "markdown",
   "metadata": {},
   "source": [
    "### 1.1 Haz una tabla rápida con el nombre de cada color del arcoíris (azul, rojo, amarillo, etc.) en una columna, en una segunda columna escribe su longitud de onda (en metros) y en una tercera columna, su frecuencia (en Hercios).\n",
    "\n",
    "### Resolución\n",
    "\n",
    "$v =  λ  \\cdot f $\n",
    "\n",
    "Siendo:\n",
    "\n",
    "$v$ = rapidez de propagación (m/s).\n",
    "\n",
    "$λ$  = longitud de onda (nm). Donde 1nm= 10e-9 m\n",
    "\n",
    "$f$ = frecuencia (Hz). Donde 1Hz = 1/s\n",
    "\n",
    "Si despejamos $f$ obtenemos: $f=\\frac{v}{λ}$\n",
    "\n",
    "La velocidad de propagación se denomina _**c**_ y depende del medio en el que se propague.\n",
    "\n",
    "Tomaremos el medio de propagación el vacio, entonces la velocidad de propagación será:\n",
    "\n",
    "$v = 3 \\cdot 10^{8} \\frac {m}{s}$\n",
    "\n",
    "\n",
    "Ahora vamos a calcular las frecuencias a partir de las longitudes de onda para cada color del arcoiris.\n",
    "\n",
    "_**ROJO**_\n",
    "\n",
    "Su longitud de onda va desde 620 a 750 lo calcularemos para su valor medio  685\n",
    "\n",
    "$λ= 685\\cdot10^{-9}m$\n",
    "$f=\\frac {v}{λ}= \\frac{3\\cdot10^{8}m/s}{685\\cdot10^{-9}m}=> f= 437\\cdot10^{12}Hz $\n",
    "\n",
    "_**NARANJA**_\n",
    "\n",
    "Su longitud de onda va desde 590 a 620 lo calcularemos para su valor medio  605\n",
    "\n",
    "$λ= 605\\cdot10^{-9}m$\n",
    "$f=\\frac {v}{λ}= \\frac{3\\cdot10^{8}m/s}{605\\cdot10^{-9}m}=> f= 495\\cdot10^{12}Hz $\n",
    "\n",
    "_**AMARILLO**_\n",
    "\n",
    "Su longitud de onda va desde 570 a 590 lo calcularemos para su valor medio 580\n",
    "\n",
    "$λ= 580\\cdot10^{-9}m$\n",
    "$f=\\frac {v}{λ}= \\frac{3\\cdot10^{8}m/s}{580\\cdot10^{-9}m}=> f= 517\\cdot10^{12}Hz $\n",
    "\n",
    "_**VERDE**_\n",
    "\n",
    "Su longitud de onda va desde 495 a 570 lo calcularemos para su valor medio 532\n",
    "\n",
    "$λ= 532\\cdot10^{-9}m$\n",
    "$f=\\frac {v}{λ}= \\frac{3\\cdot10^{8}m/s}{532\\cdot10^{-9}m}=> f= 563\\cdot10^{12}Hz $\n",
    "\n",
    "_**CIAN**_\n",
    "\n",
    "Su longitud de onda va desde 475 a 495 lo calcularemos para su valor medio 485\n",
    "\n",
    "$λ= 485\\cdot10^{-9}m$\n",
    "$f=\\frac {v}{λ}= \\frac{3\\cdot10^{8}m/s}{485\\cdot10^{-9}m}=> f= 618\\cdot10^{12}Hz $\n",
    "\n",
    "_**AZUL**_\n",
    "\n",
    "Su longitud de onda va desde 450 a 475 lo calcularemos para su valor medio 462\n",
    "\n",
    "$λ= 462\\cdot10^{-9}m$\n",
    "$f=\\frac {v}{λ}= \\frac{3\\cdot10^{8}m/s}{462\\cdot10^{-9}m}=> f= 649\\cdot10^{12}Hz $\n",
    "\n",
    "_**VIOLETA**_\n",
    "\n",
    "Su longitud de onda va desde 380 a 450 lo calcularemos para su valor medio 415\n",
    "\n",
    "$λ= 415\\cdot10^{-9}m$\n",
    "$f=\\frac {v}{λ}= \\frac{3\\cdot10^{8}m/s}{415\\cdot10^{-9}m}=> f= 722\\cdot10^{12}Hz $\n",
    "\n"
   ]
  },
  {
   "cell_type": "markdown",
   "metadata": {},
   "source": [
    "\n",
    "|Color|Longitud de onda ($10^{-9}\\ \\mathrm{(m)}$) | Frecuencia ($10^{12}Hz$)|\n",
    "|---|---|---|\n",
    "|Rojo|  685 |  437 |\n",
    "|Naranja|  605 |  495 |\n",
    "|Amarillo|  580  |  517 |\n",
    "|Verde|  532 |  563 |\n",
    "|Cian|  485 |  618 |\n",
    "|Azul|  462 |  649 |\n",
    "|Violeta|  415 |  722 |"
   ]
  },
  {
   "cell_type": "markdown",
   "metadata": {},
   "source": [
    "\n",
    "### 1.2 ¿Cuál es la relación matemática entre longitud de onda y frecuencia de una onda electromagnética?\n",
    "\n",
    "Tenemos que la velocidad es la relacción entre el espacio recorrio en un tiempo determinado\n",
    "\n",
    "$v=\\frac{d(m)}{t(s)}$\n",
    "\n",
    "Sabiendo que la longitud de onda es la distancia que recorre una onda durante un periodo o ciclo completo, y que en el Sistema Internacional se representa en metros ($m$).\n",
    "\n",
    "<img src=\"https://github.com/jbermejog/FFI_GRUPAL/blob/main/img/radio_spectrum_large.jpg?raw=true\" alt=\"Radio espectro\" width=450 />\n",
    "\n",
    "Y tenemos que la frecuencia de onda es la relación entre el tiempo y la cantidad de ciclos por unidad de tiempo (también llamado periodo), que en el S.I se reprensenta en $Hz$ que es ($\\frac{1}{s}$)\n",
    "\n",
    "\n",
    "\n",
    "\n",
    "La relación entre longitudes de onda y frecuencias es la velocidad.\n",
    "\n",
    "$f=Hz=\\frac{1}{s}$\n",
    "\n",
    "$v=\\frac{m}{s}$\n",
    "\n",
    "$\\lambda=m$\n",
    "\n",
    "\n",
    "Sustituimos las unidades en la formula :\n",
    "\n",
    "$v=f*\\lambda$\n",
    "\n",
    "${velocidad(v)=longitud\\hspace{0.1cm} de\\hspace{0.1cm}onda(\\lambda ) * frecuencia(f)}=m/s$\n",
    "\n",
    "\n",
    "\n",
    "En el caso de una velocidad de propagación constante $(c)$, la distancia recorrida por una onda, en un periodo es:\n",
    "\n",
    "$ \\lambda= \\frac{c}{f} $\n",
    "\n",
    "Despejando $f$:\n",
    "\n",
    "$ f=\\frac{c}{\\lambda} $\n",
    "\n",
    "Al aumentar la frecuencia $(f)$, se reduce la longitud de onda $(\\lambda)$ de manera inversamente proporcional."
   ]
  },
  {
   "cell_type": "markdown",
   "metadata": {},
   "source": [
    "### 1.3 Toma de medidas con el applet del efecto fotoeléctrico"
   ]
  },
  {
   "cell_type": "markdown",
   "metadata": {},
   "source": [
    "#### Observación para el Sodium\n",
    "\n",
    "Observaciones obtenidas en el applet para el Sodium.\n",
    "\n",
    "| $$\\lambda=466{nm} ; V=-0.20_V$$ | $$\\lambda=440{nm} ; V=-0.40_V$$ |\n",
    "------ | ------ |\n",
    "| <img src=\"https://github.com/jbermejog/FFI_GRUPAL/blob/main/img/sodium/Sodium-20.gif?raw=true\" alt=\"Sodium V=-20\" width=450 /> |  <img src=\"https://github.com/jbermejog/FFI_GRUPAL/blob/main/img/sodium/Sodium-40.gif?raw=true\" alt=\"Sodium V=-40\" width=450 /> |\n",
    "\n",
    "| $$\\lambda=415{nm} ; V=-0.60_V$$ | $$\\lambda= 390{nm} ; V=-0.80_V$$ |\n",
    "------ | ------ |\n",
    "| <img src=\"https://github.com/jbermejog/FFI_GRUPAL/blob/main/img/sodium/Sodium-60.gif?raw=true\" alt=\"Sodium V=-60\" width=450 /> |  <img src=\"https://github.com/jbermejog/FFI_GRUPAL/blob/main/img/sodium/Sodium-80.gif?raw=true\" alt=\"Sodium V=-80\" width=450 /> |\n"
   ]
  },
  {
   "cell_type": "markdown",
   "metadata": {},
   "source": [
    "#### Observación para el Zinc\n",
    "\n",
    "Observaciones obtenidas en el applet para el Zinc.\n",
    "\n",
    "| $$\\lambda=262{nm} ; V=-0.20_V$$ | $$\\lambda=254{nm}; V=-0.40_V$$ |\n",
    "------ | ------ |\n",
    "| <img src=\"https://github.com/jbermejog/FFI_GRUPAL/blob/main/img/zinc/Zinc-20.gif?raw=true\" alt=\"Zinc V= -20\" width=450 /> |  <img src=\"https://github.com/jbermejog/FFI_GRUPAL/blob/main/img/zinc/Zinc-40.gif?raw=true\" alt=\"Zinc V=-40\" width=450 /> |\n",
    "\n",
    "| $$\\lambda=246{nm} ; V=-0.60_V$$ | $$\\lambda= 239{nm} ; V=-0.80_V$$ |\n",
    "------ | ------ |\n",
    "| <img src=\"https://github.com/jbermejog/FFI_GRUPAL/blob/main/img/zinc/Zinc-60.gif?raw=true\" alt=\"Zinc V= -60\" width=450 /> |  <img src=\"https://github.com/jbermejog/FFI_GRUPAL/blob/main/img/zinc/Zinc-80.gif?raw=true\" alt=\"Zinc V=-80\" width=450 /> |"
   ]
  },
  {
   "cell_type": "markdown",
   "metadata": {},
   "source": [
    "### 1.4 Ajuste a una recta con regression.js"
   ]
  },
  {
   "cell_type": "markdown",
   "metadata": {},
   "source": [
    "##### PARA SODIUM"
   ]
  },
  {
   "cell_type": "code",
   "execution_count": null,
   "metadata": {
    "collapsed": true,
    "execution": {
     "iopub.execute_input": "2022-11-30T18:08:18.512Z",
     "iopub.status.busy": "2022-11-30T18:08:18.500Z",
     "iopub.status.idle": "2022-11-30T18:08:18.517Z",
     "shell.execute_reply": "2022-11-30T18:08:18.481Z"
    },
    "jupyter": {
     "outputs_hidden": false,
     "source_hidden": false
    },
    "nteract": {
     "transient": {
      "deleting": false
     }
    },
    "vscode": {
     "languageId": "javascript"
    }
   },
   "outputs": [],
   "source": [
    "var longitudes_de_onda_medidas_sodium = [466, 440, 415, 390].map(x => x*1e-9);  // para pasar a metros \n",
    "\n",
    "var voltajes_medidos_sodium = [-0.20, -0.40, -0.60, -0.80];  // en voltios (voltaje de frenado) "
   ]
  },
  {
   "cell_type": "code",
   "execution_count": null,
   "metadata": {
    "collapsed": true,
    "execution": {
     "iopub.execute_input": "2022-11-30T18:08:20.872Z",
     "iopub.status.busy": "2022-11-30T18:08:20.869Z",
     "iopub.status.idle": "2022-11-30T18:08:20.890Z",
     "shell.execute_reply": "2022-11-30T18:08:20.899Z"
    },
    "jupyter": {
     "outputs_hidden": false,
     "source_hidden": false
    },
    "nteract": {
     "transient": {
      "deleting": false
     }
    },
    "vscode": {
     "languageId": "javascript"
    }
   },
   "outputs": [
    {
     "name": "stdout",
     "output_type": "stream",
     "text": [
      "[\n",
      "  [ 5000000, -3.87 ],\n",
      "  [ 3999999.9999999995, -2.62 ],\n",
      "  [ 3333333.333333333, -1.79 ],\n",
      "  [ 2857142.857142857, -1.18 ]\n",
      "]\n"
     ]
    }
   ],
   "source": [
    "inversa_de_longitudes_de_onda_sodium = longitudes_de_onda_medidas_sodium.map(lambda => 1/lambda );\n",
    "\n",
    "var datos_a_ajustar_sodium = voltajes_medidos_sodium.reduce((tuplas_longitud_onda_voltaje, b, i) => {\n",
    "\n",
    "    tuplas_longitud_onda_voltaje.push([inversa_de_longitudes_de_onda_sodium[i], b]);\n",
    "\n",
    "return tuplas_longitud_onda_voltaje;\n",
    "\n",
    "}, []);\n",
    "\n",
    "console.log(datos_a_ajustar_sodium); // Tuplas de valores 1/lambda y voltajes"
   ]
  },
  {
   "cell_type": "code",
   "execution_count": null,
   "metadata": {
    "collapsed": true,
    "execution": {
     "iopub.execute_input": "2022-11-30T18:08:24.755Z",
     "iopub.status.busy": "2022-11-30T18:08:24.743Z",
     "iopub.status.idle": "2022-11-30T18:08:24.769Z",
     "shell.execute_reply": "2022-11-30T18:08:24.773Z"
    },
    "jupyter": {
     "outputs_hidden": false,
     "source_hidden": false
    },
    "nteract": {
     "transient": {
      "deleting": false
     }
    },
    "vscode": {
     "languageId": "javascript"
    }
   },
   "outputs": [
    {
     "name": "stdout",
     "output_type": "stream",
     "text": [
      "la pendiente es = -0.00000125355687 y la ordenada es = 2.395531446785714\n"
     ]
    }
   ],
   "source": [
    "var regression = require('./regression.js'); \n",
    "\n",
    "var result_sodium = regression.linear(datos_a_ajustar_sodium, { precision: 15 }); \n",
    "\n",
    "var m_sodium = result_sodium.equation[0];  // pendiente \n",
    "\n",
    "var b_sodium = result_sodium.equation[1];  // ordenada en origen \n",
    "\n",
    "console.log('la pendiente es = ' + m_sodium + ' y la ordenada es = ' + b_sodium); "
   ]
  },
  {
   "cell_type": "code",
   "execution_count": null,
   "metadata": {
    "collapsed": true,
    "execution": {
     "iopub.execute_input": "2022-11-30T18:08:27.675Z",
     "iopub.status.busy": "2022-11-30T18:08:27.671Z",
     "iopub.status.idle": "2022-11-30T18:08:27.685Z",
     "shell.execute_reply": "2022-11-30T18:08:27.698Z"
    },
    "jupyter": {
     "outputs_hidden": false,
     "source_hidden": false
    },
    "nteract": {
     "transient": {
      "deleting": false
     }
    },
    "vscode": {
     "languageId": "javascript"
    }
   },
   "outputs": [],
   "source": [
    "function Plotly(data, layout, $$) { \n",
    "\n",
    "    $$ = $$ || global.$$; \n",
    "\n",
    "    $$.mime({ \"application/vnd.plotly.v1+json\": { data: data, layout: layout } }); \n",
    "\n",
    "} "
   ]
  },
  {
   "cell_type": "code",
   "execution_count": null,
   "metadata": {
    "collapsed": true,
    "execution": {
     "iopub.execute_input": "2022-11-30T18:08:31.056Z",
     "iopub.status.busy": "2022-11-30T18:08:31.050Z",
     "iopub.status.idle": "2022-11-30T18:08:31.127Z",
     "shell.execute_reply": "2022-11-30T18:08:31.131Z"
    },
    "jupyter": {
     "outputs_hidden": false,
     "source_hidden": false
    },
    "nteract": {
     "transient": {
      "deleting": false
     }
    },
    "vscode": {
     "languageId": "javascript"
    }
   },
   "outputs": [
    {
     "data": {
      "text/plain": [
       "[\n",
       "  -3.8722529032142865,\n",
       "  -2.618696033214286,\n",
       "  -1.782991453214286,\n",
       "  -1.1860596103571428\n",
       "]"
      ]
     },
     "metadata": {},
     "output_type": "display_data"
    }
   ],
   "source": [
    "voltajes_de_frenado_calculados_sodium = inversa_de_longitudes_de_onda_sodium.map(inversa_lambda => inversa_lambda * m_sodium + b_sodium); "
   ]
  },
  {
   "cell_type": "code",
   "execution_count": null,
   "metadata": {
    "collapsed": true,
    "execution": {
     "iopub.execute_input": "2022-11-30T18:08:33.593Z",
     "iopub.status.busy": "2022-11-30T18:08:33.590Z",
     "iopub.status.idle": "2022-11-30T18:08:33.624Z",
     "shell.execute_reply": "2022-11-30T18:08:33.626Z"
    },
    "jupyter": {
     "outputs_hidden": false,
     "source_hidden": false
    },
    "nteract": {
     "transient": {
      "deleting": false
     }
    },
    "vscode": {
     "languageId": "javascript"
    }
   },
   "outputs": [
    {
     "data": {
      "application/vnd.plotly.v1+json": {
       "data": [
        {
         "name": "Datos experimentales",
         "x": [
          5000000,
          3999999.9999999995,
          3333333.333333333,
          2857142.857142857
         ],
         "y": [
          -3.87,
          -2.62,
          -1.79,
          -1.18
         ]
        },
        {
         "name": "Datos calculados tras ajuste",
         "x": [
          5000000,
          3999999.9999999995,
          3333333.333333333,
          2857142.857142857
         ],
         "y": [
          -3.8722529032142865,
          -2.618696033214286,
          -1.782991453214286,
          -1.1860596103571428
         ]
        }
       ],
       "layout": {
        "title": "Plot de ejemplo",
        "xaxis": {
         "title": "x Axis",
         "titlefont": {
          "color": "#7f7f7f",
          "family": "Courier New, monospace",
          "size": 18
         }
        },
        "yaxis": {
         "title": "y Axis",
         "titlefont": {
          "color": "#7f7f7f",
          "family": "Courier New, monospace",
          "size": 18
         }
        }
       }
      }
     },
     "metadata": {},
     "output_type": "display_data"
    }
   ],
   "source": [
    "datos_sodium = [ \n",
    "  { x: inversa_de_longitudes_de_onda_sodium, y: voltajes_medidos_sodium, name: 'Datos experimentales' },  \n",
    "  { x: inversa_de_longitudes_de_onda_sodium, y: voltajes_de_frenado_calculados_sodium, name: 'Datos calculados tras ajuste' } \n",
    "]; \n",
    "var layout_sodium = { \n",
    "  title: 'Gráfica para el Sodium', \n",
    "  xaxis: { title: 'Longitud de onda (m e-1)', \n",
    "    titlefont: { family: 'Courier New, monospace', size: 18, color: '#7f7f7f' } \n",
    "  }, \n",
    "  yaxis: { \n",
    "    title: 'Voltajes de frenado (V)', titlefont: { \n",
    "      family: 'Courier New, monospace', size: 18, color: '#7f7f7f' } \n",
    "  } \n",
    "}; \n",
    "Plotly(datos, layout); "
   ]
  },
  {
   "cell_type": "markdown",
   "metadata": {},
   "source": [
    "##### PARA EL ZINC"
   ]
  },
  {
   "cell_type": "code",
   "execution_count": null,
   "metadata": {
    "collapsed": true,
    "execution": {
     "iopub.execute_input": "2022-11-30T18:08:18.512Z",
     "iopub.status.busy": "2022-11-30T18:08:18.500Z",
     "iopub.status.idle": "2022-11-30T18:08:18.517Z",
     "shell.execute_reply": "2022-11-30T18:08:18.481Z"
    },
    "jupyter": {
     "outputs_hidden": false,
     "source_hidden": false
    },
    "nteract": {
     "transient": {
      "deleting": false
     }
    },
    "vscode": {
     "languageId": "javascript"
    }
   },
   "outputs": [],
   "source": [
    "var longitudes_de_onda_medidas_zinc = [262, 254, 246, 239].map(x => x*1e-9);  // para pasar a metros \n",
    "\n",
    "var voltajes_medidos_zinc = [-0.20, -0.40, -0.60, -0.80];  // en voltios (voltaje de frenado) "
   ]
  },
  {
   "cell_type": "code",
   "execution_count": null,
   "metadata": {
    "collapsed": true,
    "execution": {
     "iopub.execute_input": "2022-11-30T18:08:20.872Z",
     "iopub.status.busy": "2022-11-30T18:08:20.869Z",
     "iopub.status.idle": "2022-11-30T18:08:20.890Z",
     "shell.execute_reply": "2022-11-30T18:08:20.899Z"
    },
    "jupyter": {
     "outputs_hidden": false,
     "source_hidden": false
    },
    "nteract": {
     "transient": {
      "deleting": false
     }
    },
    "vscode": {
     "languageId": "javascript"
    }
   },
   "outputs": [
    {
     "name": "stdout",
     "output_type": "stream",
     "text": [
      "[\n",
      "  [ 5000000, -3.87 ],\n",
      "  [ 3999999.9999999995, -2.62 ],\n",
      "  [ 3333333.333333333, -1.79 ],\n",
      "  [ 2857142.857142857, -1.18 ]\n",
      "]\n"
     ]
    }
   ],
   "source": [
    "inversa_de_longitudes_de_onda_zinc = longitudes_de_onda_medidas_zinc.map(lambda => 1/lambda );\n",
    "\n",
    "var datos_a_ajustar_zinc = voltajes_medidos_zinc.reduce((tuplas_longitud_onda_voltaje, b, i) => {\n",
    "\n",
    "    tuplas_longitud_onda_voltaje.push([inversa_de_longitudes_de_onda_zinc[i], b]);\n",
    "\n",
    "return tuplas_longitud_onda_voltaje;\n",
    "\n",
    "}, []);\n",
    "\n",
    "console.log(datos_a_ajustar_zinc); // Tuplas de valores 1/lambda y voltajes"
   ]
  },
  {
   "cell_type": "code",
   "execution_count": null,
   "metadata": {
    "collapsed": true,
    "execution": {
     "iopub.execute_input": "2022-11-30T18:08:24.755Z",
     "iopub.status.busy": "2022-11-30T18:08:24.743Z",
     "iopub.status.idle": "2022-11-30T18:08:24.769Z",
     "shell.execute_reply": "2022-11-30T18:08:24.773Z"
    },
    "jupyter": {
     "outputs_hidden": false,
     "source_hidden": false
    },
    "nteract": {
     "transient": {
      "deleting": false
     }
    },
    "vscode": {
     "languageId": "javascript"
    }
   },
   "outputs": [
    {
     "name": "stdout",
     "output_type": "stream",
     "text": [
      "la pendiente es = -0.00000125355687 y la ordenada es = 2.395531446785714\n"
     ]
    }
   ],
   "source": [
    "var regression = require('./regression.js'); \n",
    "\n",
    "var result_zinc = regression.linear(datos_a_ajustar_zinc, { precision: 15 }); \n",
    "\n",
    "var m_zinc = result_zinc.equation[0];  // pendiente \n",
    "\n",
    "var b_zinc = result_zinc.equation[1];  // ordenada en origen \n",
    "\n",
    "console.log('la pendiente es = ' + m_zinc + ' y la ordenada es = ' + b_zinc); "
   ]
  },
  {
   "cell_type": "code",
   "execution_count": null,
   "metadata": {
    "collapsed": true,
    "execution": {
     "iopub.execute_input": "2022-11-30T18:08:27.675Z",
     "iopub.status.busy": "2022-11-30T18:08:27.671Z",
     "iopub.status.idle": "2022-11-30T18:08:27.685Z",
     "shell.execute_reply": "2022-11-30T18:08:27.698Z"
    },
    "jupyter": {
     "outputs_hidden": false,
     "source_hidden": false
    },
    "nteract": {
     "transient": {
      "deleting": false
     }
    },
    "vscode": {
     "languageId": "javascript"
    }
   },
   "outputs": [],
   "source": [
    "function Plotly(data, layout, $$) { \n",
    "\n",
    "    $$ = $$ || global.$$; \n",
    "\n",
    "    $$.mime({ \"application/vnd.plotly.v1+json\": { data: data, layout: layout } }); \n",
    "\n",
    "} "
   ]
  },
  {
   "cell_type": "code",
   "execution_count": null,
   "metadata": {
    "collapsed": true,
    "execution": {
     "iopub.execute_input": "2022-11-30T18:08:31.056Z",
     "iopub.status.busy": "2022-11-30T18:08:31.050Z",
     "iopub.status.idle": "2022-11-30T18:08:31.127Z",
     "shell.execute_reply": "2022-11-30T18:08:31.131Z"
    },
    "jupyter": {
     "outputs_hidden": false,
     "source_hidden": false
    },
    "nteract": {
     "transient": {
      "deleting": false
     }
    },
    "vscode": {
     "languageId": "javascript"
    }
   },
   "outputs": [
    {
     "data": {
      "text/plain": [
       "[\n",
       "  -3.8722529032142865,\n",
       "  -2.618696033214286,\n",
       "  -1.782991453214286,\n",
       "  -1.1860596103571428\n",
       "]"
      ]
     },
     "metadata": {},
     "output_type": "display_data"
    }
   ],
   "source": [
    "voltajes_de_frenado_calculados_zinc = inversa_de_longitudes_de_onda_zinc.map(inversa_lambda => inversa_lambda * m_sodium + b_sodium); "
   ]
  },
  {
   "cell_type": "code",
   "execution_count": null,
   "metadata": {
    "collapsed": true,
    "execution": {
     "iopub.execute_input": "2022-11-30T18:08:33.593Z",
     "iopub.status.busy": "2022-11-30T18:08:33.590Z",
     "iopub.status.idle": "2022-11-30T18:08:33.624Z",
     "shell.execute_reply": "2022-11-30T18:08:33.626Z"
    },
    "jupyter": {
     "outputs_hidden": false,
     "source_hidden": false
    },
    "nteract": {
     "transient": {
      "deleting": false
     }
    },
    "vscode": {
     "languageId": "javascript"
    }
   },
   "outputs": [
    {
     "data": {
      "application/vnd.plotly.v1+json": {
       "data": [
        {
         "name": "Datos experimentales",
         "x": [
          5000000,
          3999999.9999999995,
          3333333.333333333,
          2857142.857142857
         ],
         "y": [
          -3.87,
          -2.62,
          -1.79,
          -1.18
         ]
        },
        {
         "name": "Datos calculados tras ajuste",
         "x": [
          5000000,
          3999999.9999999995,
          3333333.333333333,
          2857142.857142857
         ],
         "y": [
          -3.8722529032142865,
          -2.618696033214286,
          -1.782991453214286,
          -1.1860596103571428
         ]
        }
       ],
       "layout": {
        "title": "Plot de ejemplo",
        "xaxis": {
         "title": "x Axis",
         "titlefont": {
          "color": "#7f7f7f",
          "family": "Courier New, monospace",
          "size": 18
         }
        },
        "yaxis": {
         "title": "y Axis",
         "titlefont": {
          "color": "#7f7f7f",
          "family": "Courier New, monospace",
          "size": 18
         }
        }
       }
      }
     },
     "metadata": {},
     "output_type": "display_data"
    }
   ],
   "source": [
    "datos_zinc = [ \n",
    "  { x: inversa_de_longitudes_de_onda_zinc, y: voltajes_medidos_zinc, name: 'Datos experimentales' },  \n",
    "  { x: inversa_de_longitudes_de_onda_zinc, y: voltajes_de_frenado_calculados_zinc, name: 'Datos calculados tras ajuste' } \n",
    "]; \n",
    "var layout_zinc = { \n",
    "  title: 'Gráfica para el Zinc', \n",
    "  xaxis: { title: 'Longitud de onda (m e-1)', \n",
    "    titlefont: { family: 'Courier New, monospace', size: 18, color: '#7f7f7f' } \n",
    "  }, \n",
    "  yaxis: { \n",
    "    title: 'Voltajes de frenado (V)', titlefont: { \n",
    "      family: 'Courier New, monospace', size: 18, color: '#7f7f7f' } \n",
    "  } \n",
    "}; \n",
    "Plotly(datos, layout); "
   ]
  },
  {
   "cell_type": "markdown",
   "metadata": {},
   "source": []
  },
  {
   "cell_type": "markdown",
   "metadata": {},
   "source": [
    "## Ejercicio Premium\n",
    "\n",
    "\n",
    "Modifica ahora el control de intensidad de la luz (el que va entre 0 y el 100%) para una longitud de onda de 200 nm y un metal a tu elección.\n",
    "\n",
    "¿Qué le ocurre a la corriente que se mide con el amperímetro?\n",
    "\n",
    "Haz una gráfica que represente el amperaje medido respecto a dicha intensidad de luz. ¿Qué relación se observa?"
   ]
  },
  {
   "cell_type": "markdown",
   "metadata": {},
   "source": [
    "#### Resolución Premium\n",
    "\n",
    "\n",
    "Colocamos la longitud de onda en $200nm$ y la intensidad en $0$, con voltaje en $0.00$.\n",
    "\n",
    "Para representar gráficamente dicha relación, aumentamos la intensidad de la luz gradualmente y anotamos las variaciones medidas con el amperímetro para cada valor de intesidad.\n",
    "\n",
    "<img src=\"https://github.com/jbermejog/FFI_GRUPAL/blob/main/img/intensity_sodium.gif?raw=true\" alt=\"Aumento Intensidad con Sodium\" width=450 />\n",
    "\n",
    "Los datos recogidos de manera experimental utilizando el  applet de Java, los guardamos en sus arrays correspondientes.\n",
    "\n"
   ]
  },
  {
   "cell_type": "markdown",
   "metadata": {},
   "source": [
    "#### Sodium\n",
    "\n",
    "\n",
    "Datos recogidos en el applet. {Intensidad, Amperaje}\n",
    "\n",
    "{$I= 0$ ,  $A= 0.000$}\n",
    "\n",
    "{$I= 0.20$ , $A= 0.335$}\n",
    "\n",
    "{$I= 0.40$ , $A= 0.671$}\n",
    "\n",
    "{$I= 0.60$ , $A= 1.006$}\n",
    "\n",
    "{$I= 0.80$ , $A= 1.341$}\n",
    "\n",
    "{$I= 1$ , $A= 1.677$}"
   ]
  },
  {
   "cell_type": "code",
   "execution_count": null,
   "metadata": {
    "collapsed": false,
    "execution": {
     "iopub.execute_input": "2022-11-25T07:34:18.943Z",
     "iopub.status.busy": "2022-11-25T07:34:18.925Z",
     "iopub.status.idle": "2022-11-25T07:34:18.960Z",
     "shell.execute_reply": "2022-11-25T07:34:16.684Z"
    },
    "inputHidden": false,
    "outputHidden": false,
    "vscode": {
     "languageId": "javascript"
    }
   },
   "outputs": [],
   "source": [
    "// Creamos las variables y guardamos los datos recogidos en ellas\n",
    "// I= intensidad de la luz\n",
    "// A= Amperios\n",
    "var I_Sodium=[0, 20, 40, 60, 80, 1];\n",
    "var A_Sodium=[0.000, 0.335, 0.671, 1.006, 1.341, 1.677];"
   ]
  },
  {
   "cell_type": "code",
   "execution_count": null,
   "metadata": {
    "collapsed": false,
    "execution": {
     "iopub.execute_input": "2022-11-25T07:34:19.000Z",
     "iopub.status.busy": "2022-11-25T07:34:18.984Z",
     "iopub.status.idle": "2022-11-25T07:34:19.055Z",
     "shell.execute_reply": "2022-11-25T07:34:16.700Z"
    },
    "inputHidden": false,
    "outputHidden": false,
    "vscode": {
     "languageId": "javascript"
    }
   },
   "outputs": [
    {
     "data": {
      "application/vnd.plotly.v1+json": {
       "data": [
        {
         "line": {
          "color": "#ff0d0d",
          "width": 2
         },
         "marker": {
          "color": "#ff0d0d",
          "size": 5
         },
         "name": "Datos experimentales",
         "x": [
          0,
          0.2,
          0.4,
          0.6,
          0.8,
          1
         ],
         "y": [
          0,
          0.173,
          0.351,
          0.531,
          0.709,
          0.882
         ]
        }
       ],
       "layout": {
        "title": "Gráfica para el Sodium",
        "xaxis": {
         "title": "Intensidad de la luz (%)",
         "titlefont": {
          "color": "#cc00ff",
          "family": "Courier New, monospace",
          "size": 18
         }
        },
        "yaxis": {
         "title": "Amperios (A)",
         "titlefont": {
          "color": "#cc00ff",
          "family": "Courier New, monospace",
          "size": 18
         }
        }
       }
      }
     },
     "metadata": {},
     "output_type": "display_data"
    }
   ],
   "source": [
    "datos_Premium_Sodium = [\n",
    "  { x:I_Sodium, \n",
    "   y: A_Sodium, \n",
    "   name: 'Datos experimentales', \n",
    "   marker:{color: '#ff0d0d',size: 5 },\n",
    "   line:{color:'#ff0d0d',width: 2}},\n",
    "   \n",
    "];\n",
    "var layout_Premium_Sodium = {title: 'Gráfica para el Sodium',\n",
    "                     \n",
    "  xaxis: {\n",
    "    title: 'Intensidad de la luz (%)',\n",
    "    titlefont: { family: 'Courier New, monospace', size: 18, color: '#cc00ff' }},\n",
    "    \n",
    "  yaxis: {\n",
    "    title: 'Amperios (A)', \n",
    "    titlefont: {family: 'Courier New, monospace', size: 18, color: '#cc00ff' }}\n",
    "};\n",
    "Plotly(datos_Premium_Sodium, layout_Premium_Sodium);"
   ]
  }
 ],
 "metadata": {
  "kernelspec": {
   "display_name": "Python 3.10.6 64-bit",
   "language": "python",
   "name": "python3"
  },
  "language_info": {
   "codemirror_mode": {
    "name": "ipython",
    "version": 3
   },
   "file_extension": ".py",
   "mimetype": "text/x-python",
   "name": "python",
   "nbconvert_exporter": "python",
   "pygments_lexer": "ipython3",
   "version": "3.10.6"
  },
  "orig_nbformat": 4,
  "vscode": {
   "interpreter": {
    "hash": "b0fa6594d8f4cbf19f97940f81e996739fb7646882a419484c72d19e05852a7e"
   }
  }
 },
 "nbformat": 4,
 "nbformat_minor": 2
}
